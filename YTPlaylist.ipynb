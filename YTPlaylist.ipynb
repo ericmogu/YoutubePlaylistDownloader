{
 "cells": [
  {
   "cell_type": "markdown",
   "metadata": {},
   "source": [
    "Link de la playlist\n",
    "\n",
    "### por favor agrega aqui la direccion de la playlist"
   ]
  },
  {
   "cell_type": "code",
   "execution_count": null,
   "metadata": {},
   "outputs": [],
   "source": [
    "playlist_url = \"https://www.youtube.com/playlist?list=PLEFpZ3YehTnA6zl6_7zsvwMRhdJWlqoo6\""
   ]
  },
  {
   "cell_type": "markdown",
   "metadata": {},
   "source": [
    "Instala liberia yt_dlp"
   ]
  },
  {
   "cell_type": "code",
   "execution_count": null,
   "metadata": {},
   "outputs": [],
   "source": [
    "import subprocess\n",
    "import sys\n",
    "\n",
    "def install(package):\n",
    "    subprocess.check_call([sys.executable, \"-m\", \"pip\", \"install\", package])\n",
    "\n",
    "install('yt_dlp')"
   ]
  },
  {
   "cell_type": "markdown",
   "metadata": {},
   "source": [
    "Importar librerias"
   ]
  },
  {
   "cell_type": "code",
   "execution_count": null,
   "metadata": {},
   "outputs": [],
   "source": [
    "import os\n",
    "import subprocess\n",
    "import urllib.request\n",
    "import zipfile\n",
    "import shutil\n",
    "import yt_dlp\n",
    "import re"
   ]
  },
  {
   "cell_type": "markdown",
   "metadata": {},
   "source": [
    "Funcion para descargar la aplicacion ffmpeg "
   ]
  },
  {
   "cell_type": "code",
   "execution_count": null,
   "metadata": {},
   "outputs": [],
   "source": [
    "def download_ffmpeg(download_url, extract_to):\n",
    "    ffmpeg_zip = os.path.join(extract_to, 'ffmpeg.zip')\n",
    "    urllib.request.urlretrieve(download_url, ffmpeg_zip)\n",
    "    with zipfile.ZipFile(ffmpeg_zip, 'r') as zip_ref:\n",
    "        zip_ref.extractall(extract_to) \n",
    "    os.remove(ffmpeg_zip)\n",
    "    for folder_name in os.listdir(extract_to):\n",
    "        if 'ffmpeg' in folder_name:\n",
    "            return os.path.join(extract_to, folder_name, 'bin')\n",
    "    return None"
   ]
  },
  {
   "cell_type": "markdown",
   "metadata": {},
   "source": [
    "Agregar ffmpeg al PATH de entorno local"
   ]
  },
  {
   "cell_type": "code",
   "execution_count": null,
   "metadata": {},
   "outputs": [],
   "source": [
    "def add_to_path(ffmpeg_bin_path):\n",
    "    current_path = os.environ['PATH']\n",
    "    if ffmpeg_bin_path not in current_path:\n",
    "        os.environ['PATH'] = current_path + os.pathsep + ffmpeg_bin_path\n",
    "        subprocess.run(['setx', 'PATH', f'{current_path}{os.pathsep}{ffmpeg_bin_path}'], shell=True)"
   ]
  },
  {
   "cell_type": "markdown",
   "metadata": {},
   "source": [
    "# Inicio del proceso de descarga en YouTube\n"
   ]
  },
  {
   "cell_type": "markdown",
   "metadata": {},
   "source": [
    "Se define una función para crear una carpeta en base al nombre de la playlist, sin caracteres especiales"
   ]
  },
  {
   "cell_type": "code",
   "execution_count": null,
   "metadata": {},
   "outputs": [],
   "source": [
    "def clean_name(name):\n",
    "    return re.sub(r'[\\\\/*?:\"<>|]', \"\", name)"
   ]
  },
  {
   "cell_type": "markdown",
   "metadata": {},
   "source": [
    "Se crea el directorio Mis Videos en la ruta Documentos"
   ]
  },
  {
   "cell_type": "code",
   "execution_count": null,
   "metadata": {},
   "outputs": [],
   "source": [
    "save_path = os.path.join(os.path.expanduser(\"~/Documents\"), \"Mis Videos\")"
   ]
  },
  {
   "cell_type": "markdown",
   "metadata": {},
   "source": [
    "Parametros de configuracion de la liberia yt_ltp"
   ]
  },
  {
   "cell_type": "code",
   "execution_count": null,
   "metadata": {},
   "outputs": [],
   "source": [
    "ydl_opts = {\n",
    "    'outtmpl': os.path.join(save_path, '%(playlist_title)s', '%(title)s.%(ext)s'),\n",
    "    'format': 'bestvideo+bestaudio/best',\n",
    "    'noplaylist': False,\n",
    "    'merge_output_format': 'mp4'\n",
    "}"
   ]
  },
  {
   "cell_type": "markdown",
   "metadata": {},
   "source": [
    "Analiza el Json de la playlist y extrae enlaces y nombres, crea la carpeta con base al nombre de la playlist"
   ]
  },
  {
   "cell_type": "code",
   "execution_count": null,
   "metadata": {},
   "outputs": [],
   "source": [
    "with yt_dlp.YoutubeDL(ydl_opts) as ydl:\n",
    "    info_dict = ydl.extract_info(playlist_url, download=False)\n",
    "     \n",
    "rutacodec = r\"C:\\ffmpeg\"   \n",
    "if  os.path.exists(rutacodec):\n",
    "        print('El archivo existe en el directorio') \n",
    "else:    \n",
    "    def main():\n",
    "        download_url = 'https://www.gyan.dev/ffmpeg/builds/ffmpeg-release-essentials.zip'\n",
    "        if  os.path.exists(rutacodec):\n",
    "            print('El archivo existe en el directorio')\n",
    "        else:\n",
    "            os.makedirs(rutacodec)\n",
    "        ffmpeg_bin_path = download_ffmpeg(download_url, rutacodec)\n",
    "        if ffmpeg_bin_path:\n",
    "            add_to_path(ffmpeg_bin_path)\n",
    "            print('ffmpeg instalado y agregado al PATH con éxito.')\n",
    "        else:\n",
    "            print('Error al instalar ffmpeg.')\n",
    "    if __name__ == \"__main__\":\n",
    "        main()     \n",
    "\n",
    "    if 'title' in info_dict:\n",
    "        playlist_title = clean_name(info_dict['title'])\n",
    "        playlist_folder = os.path.join(save_path, playlist_title)\n",
    "        if not os.path.exists(playlist_folder):\n",
    "            os.makedirs(playlist_folder)\n",
    "        ydl_opts['outtmpl'] = os.path.join(playlist_folder, '%(title)s.%(ext)s')\n",
    "    else:\n",
    "        print(\"No se pudo obtener el título de la playlist.\")\n",
    "        exit(1)\n",
    "    \n",
    "    with yt_dlp.YoutubeDL(ydl_opts) as ydl:\n",
    "        ydl.download([playlist_url])\n",
    "\n",
    "print('¡Descarga de la playlist completada!')"
   ]
  }
 ],
 "metadata": {
  "kernelspec": {
   "display_name": "Python 3",
   "language": "python",
   "name": "python3"
  },
  "language_info": {
   "codemirror_mode": {
    "name": "ipython",
    "version": 3
   },
   "file_extension": ".py",
   "mimetype": "text/x-python",
   "name": "python",
   "nbconvert_exporter": "python",
   "pygments_lexer": "ipython3",
   "version": "3.12.4"
  }
 },
 "nbformat": 4,
 "nbformat_minor": 2
}
