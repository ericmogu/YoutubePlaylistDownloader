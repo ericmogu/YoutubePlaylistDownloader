{
 "cells": [
  {
   "cell_type": "markdown",
   "metadata": {},
   "source": [
    "Importar librerias"
   ]
  },
  {
   "cell_type": "code",
   "execution_count": null,
   "metadata": {},
   "outputs": [],
   "source": [
    "import os\n",
    "import subprocess\n",
    "import urllib.request\n",
    "import zipfile\n",
    "import shutil\n",
    "import yt_dlp\n",
    "import re"
   ]
  },
  {
   "cell_type": "markdown",
   "metadata": {},
   "source": [
    "Funcion para descargar la aplicacion ffmpeg "
   ]
  },
  {
   "cell_type": "code",
   "execution_count": null,
   "metadata": {},
   "outputs": [],
   "source": [
    "def download_ffmpeg(download_url, extract_to):\n",
    "    ffmpeg_zip = os.path.join(extract_to, 'ffmpeg.zip')\n",
    "    urllib.request.urlretrieve(download_url, ffmpeg_zip)\n",
    "    with zipfile.ZipFile(ffmpeg_zip, 'r') as zip_ref:\n",
    "        zip_ref.extractall(extract_to) \n",
    "    os.remove(ffmpeg_zip)\n",
    "    for folder_name in os.listdir(extract_to):\n",
    "        if 'ffmpeg' in folder_name:\n",
    "            return os.path.join(extract_to, folder_name, 'bin')\n",
    "    return None"
   ]
  },
  {
   "cell_type": "markdown",
   "metadata": {},
   "source": [
    "Agregar ffmpeg al PATH de entorno local"
   ]
  },
  {
   "cell_type": "code",
   "execution_count": null,
   "metadata": {},
   "outputs": [],
   "source": [
    "def add_to_path(ffmpeg_bin_path):\n",
    "    current_path = os.environ['PATH']\n",
    "    if ffmpeg_bin_path not in current_path:\n",
    "        os.environ['PATH'] = current_path + os.pathsep + ffmpeg_bin_path\n",
    "        subprocess.run(['setx', 'PATH', f'{current_path}{os.pathsep}{ffmpeg_bin_path}'], shell=True)"
   ]
  },
  {
   "cell_type": "markdown",
   "metadata": {},
   "source": [
    "Llamado a las funciones para descargar e instalar, valida si existe el archivo y omite el proceso en caso de que ya exista "
   ]
  },
  {
   "cell_type": "code",
   "execution_count": null,
   "metadata": {},
   "outputs": [],
   "source": [
    "extract = os.path.join('C:', 'ffmpeg-7.0.1')\n",
    "if  os.path.exists(extract):\n",
    "        print('El archivo existe en el directorio') \n",
    "else:    \n",
    "    def main():\n",
    "        download_url = 'https://www.gyan.dev/ffmpeg/builds/ffmpeg-release-essentials.zip'\n",
    "        if  os.path.exists(extract):\n",
    "            print('El archivo existe en el directorio')\n",
    "        else:\n",
    "            os.makedirs(extract)\n",
    "        ffmpeg_bin_path = download_ffmpeg(download_url, extract)\n",
    "        if ffmpeg_bin_path:\n",
    "            add_to_path(ffmpeg_bin_path)\n",
    "            print('ffmpeg instalado y agregado al PATH con éxito.')\n",
    "        else:\n",
    "            print('Error al instalar ffmpeg.')\n",
    "    if __name__ == \"__main__\":\n",
    "        main()"
   ]
  }
 ],
 "metadata": {
  "language_info": {
   "name": "python"
  }
 },
 "nbformat": 4,
 "nbformat_minor": 2
}
